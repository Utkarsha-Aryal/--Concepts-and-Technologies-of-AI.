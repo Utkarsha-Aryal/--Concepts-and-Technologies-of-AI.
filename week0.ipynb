{
 "cells": [
  {
   "cell_type": "code",
   "execution_count": 1,
   "id": "243a355e-5af5-41a3-9b78-f7c86170180c",
   "metadata": {},
   "outputs": [
    {
     "name": "stdout",
     "output_type": "stream",
     "text": [
      "hello world \n"
     ]
    }
   ],
   "source": [
    "print(\"hello world \")"
   ]
  },
  {
   "cell_type": "code",
   "execution_count": 18,
   "id": "03c9d434-bc4e-42e2-9a0d-cfd989b74903",
   "metadata": {},
   "outputs": [
    {
     "name": "stdout",
     "output_type": "stream",
     "text": [
      "hello world\n",
      "Python version: 3.12.7 | packaged by Anaconda, Inc. | (main, Oct  4 2024, 13:17:27) [MSC v.1929 64 bit (AMD64)]\n"
     ]
    }
   ],
   "source": [
    "import sys\n",
    "if sys.version_info.major == 3 and sys.version_info.minor >=6:\n",
    "    print('hello world')\n",
    "    print(f\"Python version: {sys.version}\")\n",
    "else:\n",
    "    print(\"It isn't using the required version\")"
   ]
  },
  {
   "cell_type": "code",
   "execution_count": 16,
   "id": "7190bede-7255-414f-8673-bb978e75f48a",
   "metadata": {},
   "outputs": [
    {
     "name": "stdout",
     "output_type": "stream",
     "text": [
      "data type of the variable name =  <class 'str'>\n",
      "data type of the variable greeting =  <class 'str'>\n",
      "data type of the variable address =  <class 'str'>\n",
      "The first letter of the name is: A\n",
      "The last letter of the name is: e\n",
      "The second letter to the fourth of the name is: lic\n",
      "The first two letters of the name are: Al\n",
      "Substring starting from the third letter is: ice\n"
     ]
    }
   ],
   "source": [
    "name = \"Alice\"\n",
    "greeting = \"Hello\"\n",
    "address = \"123 Main St\"\n",
    "print(\"data type of the variable name = \", type(name))\n",
    "print(\"data type of the variable greeting = \", type(greeting))\n",
    "print(\"data type of the variable address = \", type(address))\n",
    "# Slice examples\n",
    "print(\"The first letter of the name is:\", name[0])\n",
    "print(\"The last letter of the name is:\", name[-1])\n",
    "print(\"The second letter to the fourth of the name is:\", name[1:4])\n",
    "print(\"The first two letters of the name are:\", name[:2])\n",
    "print(\"Substring starting from the third letter is:\", name[2:])"
   ]
  },
  {
   "cell_type": "code",
   "execution_count": 14,
   "id": "f264f680-c461-49c7-9c3b-8c78d7edbf57",
   "metadata": {},
   "outputs": [
    {
     "name": "stdout",
     "output_type": "stream",
     "text": [
      "The 1st letter to the fourth of the name is: Alic\n"
     ]
    }
   ],
   "source": [
    "name = \"Alice\"\n",
    "print(\"The 1st letter to the fourth of the name is:\", name[0:4])"
   ]
  },
  {
   "cell_type": "code",
   "execution_count": 12,
   "id": "c357efce-80bb-41c3-9c0e-22f934a89ba8",
   "metadata": {},
   "outputs": [
    {
     "name": "stdout",
     "output_type": "stream",
     "text": [
      "[False, 'hello', True]\n"
     ]
    }
   ],
   "source": [
    "list1 = [1, 2, 3, 4]\n",
    "mixed_list = [12, \"hello\", True]\n",
    "# Lists are mutable, meaning they are changeable\n",
    "mixed_list[0] = False\n",
    "print(mixed_list)"
   ]
  },
  {
   "cell_type": "code",
   "execution_count": 10,
   "id": "86d478c4-2fc0-461a-9d34-381bad4cc5b3",
   "metadata": {},
   "outputs": [
    {
     "name": "stdout",
     "output_type": "stream",
     "text": [
      "First element red\n",
      "Last two elements ('yellow', 'blue')\n",
      "Middle two elements ('green', 'yellow')\n",
      "Error: 'tuple' object does not support item assignment\n"
     ]
    }
   ],
   "source": [
    "colors = ('red', 'green', 'yellow', 'blue')\n",
    "print(\"First element\", colors[0])\n",
    "print(\"Last two elements\", colors[2:])\n",
    "print(\"Middle two elements\", colors[1:3])\n",
    "# This will generate an error because tuples are immutable\n",
    "try:\n",
    "    colors[0] = \"purple\"\n",
    "except TypeError as e:\n",
    "    print(f\"Error: {e}\")\n"
   ]
  },
  {
   "cell_type": "code",
   "execution_count": 8,
   "id": "2611f25a-8c8e-4e24-937c-93d6a4e540ad",
   "metadata": {},
   "outputs": [
    {
     "name": "stdout",
     "output_type": "stream",
     "text": [
      "All keys: ['name', 'age', 'city']\n",
      "All values: ['utkarsha', '18', 'Kathmandu']\n"
     ]
    }
   ],
   "source": [
    "# Cell 7\n",
    "# Mapping data types that are stored in key-value pairs\n",
    "person = {'name': 'utkarsha', 'age': '18', 'city': 'Kathmandu'}\n",
    "print('All keys:', list(person.keys()))\n",
    "print('All values:', list(person.values()))\n"
   ]
  },
  {
   "cell_type": "code",
   "execution_count": 6,
   "id": "07209b77-204b-4285-8046-ce4f7cc6c331",
   "metadata": {},
   "outputs": [
    {
     "name": "stdout",
     "output_type": "stream",
     "text": [
      "{1, 2, 3, 4, 5, 6, 7, 8}\n",
      "{1, 2, 3, 4, 5, 6, 7}\n"
     ]
    }
   ],
   "source": [
    "# Cell 8\n",
    "# Sets are unordered collections of unique elements\n",
    "unique_numbers = {1, 2, 3, 4, 5, 6, 7, 8}\n",
    "print(unique_numbers)\n",
    "unique_numbers.add(3)  # Adding duplicate value has no effect\n",
    "unique_numbers.remove(8)\n",
    "print(unique_numbers)"
   ]
  },
  {
   "cell_type": "code",
   "execution_count": 3,
   "id": "8a27abb1-6ce4-4c70-89fd-9c1af903f6ab",
   "metadata": {},
   "outputs": [
    {
     "name": "stdout",
     "output_type": "stream",
     "text": [
      "Cold temperatures: [8.2, 7.9, 9.0, 8.5, 7.7, 8.4, 9.5, 8.1, 7.6, 8.0, 7.8, 8.7, 9.2, 8.3, 8.9, 7.8]\n",
      "Mild temperatures: [14.1, 13.5, 13.0, 12.9, 13.3, 14.0, 13.4, 14.2, 12.8, 13.7, 13.6, 13.8, 13.9, 12.7, 13.1, 12.5]\n",
      "Comfortable temperatures: [17.4, 18.0, 17.8, 16.5, 17.2, 16.7, 18.3, 17.9, 17.0, 16.8, 17.5, 17.1, 18.1, 16.4, 18.2, 16.6]\n"
     ]
    }
   ],
   "source": [
    "# Cell 9\n",
    "# task 1 classify temperatures\n",
    "temperatures = [\n",
    "    8.2, 17.4, 14.1, 7.9, 18.0, 13.5, 9.0, 17.8, 13.0, 8.5,\n",
    "    16.5, 12.9, 7.7, 17.2, 13.3, 8.4, 16.7, 14.0, 9.5, 18.3,\n",
    "    13.4, 8.1, 17.9, 14.2, 7.6, 17.0, 12.8, 8.0, 16.8, 13.7,\n",
    "    7.8, 17.5, 13.6, 8.7, 17.1, 13.8, 9.2, 18.1, 13.9, 8.3,\n",
    "    16.4, 12.7, 8.9, 18.2, 13.1, 7.8, 16.6, 12.5\n",
    "]\n",
    "cold = []\n",
    "mild = []\n",
    "comfortable = []\n",
    "for temp in temperatures:\n",
    "    if temp < 10:\n",
    "        cold.append(temp)\n",
    "    elif 10 <= temp < 15:\n",
    "        mild.append(temp)\n",
    "    else:\n",
    "        comfortable.append(temp)\n",
    "print(\"Cold temperatures:\", cold)\n",
    "print(\"Mild temperatures:\", mild)\n",
    "print(\"Comfortable temperatures:\", comfortable)"
   ]
  },
  {
   "cell_type": "code",
   "execution_count": 40,
   "id": "07793343-43bd-4c24-bfb7-97a06e50332e",
   "metadata": {},
   "outputs": [
    {
     "name": "stdout",
     "output_type": "stream",
     "text": [
      "The number of mild days 16 number of comfortable days 16 number of cold days 16 \n"
     ]
    }
   ],
   "source": [
    "# Task2 based on data - answer all the questions \n",
    "temperatures = [\n",
    "    8.2, 17.4, 14.1, 7.9, 18.0, 13.5, 9.0, 17.8, 13.0, 8.5,\n",
    "    16.5, 12.9, 7.7, 17.2, 13.3, 8.4, 16.7, 14.0, 9.5, 18.3,\n",
    "    13.4, 8.1, 17.9, 14.2, 7.6, 17.0, 12.8, 8.0, 16.8, 13.7,\n",
    "    7.8, 17.5, 13.6, 8.7, 17.1, 13.8, 9.2, 18.1, 13.9, 8.3,\n",
    "    16.4, 12.7, 8.9, 18.2, 13.1, 7.8, 16.6, 12.5\n",
    "]\n",
    "cold = []\n",
    "mild = []\n",
    "comfortable = []\n",
    "for temp in temperatures:\n",
    "    if temp < 10:\n",
    "        cold.append(temp)\n",
    "    elif 10 <= temp < 15:\n",
    "        mild.append(temp)\n",
    "    else:\n",
    "        comfortable.append(temp)\n",
    "numberMild = len(mild)\n",
    "numberCold = len(cold)\n",
    "numberComfortable = len(comfortable)\n",
    "# alternative way\n",
    "def counter(list_temperature):\n",
    "    i= 0\n",
    "    for item in list_temperature:\n",
    "        i = i +1\n",
    "    return(i)\n",
    "\n",
    "print(f\"The number of mild days {counter(mild)} number of comfortable days {counter(comfortable)} number of cold days {counter(cold)} \")\n",
    "\n",
    "\n"
   ]
  },
  {
   "cell_type": "code",
   "execution_count": 42,
   "id": "669ab06a-255d-420b-96e3-4d197a71daa9",
   "metadata": {},
   "outputs": [
    {
     "name": "stdout",
     "output_type": "stream",
     "text": [
      " the number of elemnts in the new list of fahrenheit [46.76, 63.32, 57.379999999999995, 46.22, 64.4, 56.3, 48.2, 64.04, 55.4, 47.3, 61.7, 55.22, 45.86, 62.959999999999994, 55.94, 47.120000000000005, 62.059999999999995, 57.2, 49.1, 64.94, 56.120000000000005, 46.58, 64.22, 57.56, 45.68, 62.6, 55.04, 46.4, 62.24, 56.66, 46.04, 63.5, 56.48, 47.66, 62.78, 56.84, 48.56, 64.58, 57.02, 46.94, 61.519999999999996, 54.86, 48.02, 64.75999999999999, 55.58, 46.04, 61.88, 54.5]\n"
     ]
    }
   ],
   "source": [
    "# task 3 \n",
    "temperatures = [\n",
    "    8.2, 17.4, 14.1, 7.9, 18.0, 13.5, 9.0, 17.8, 13.0, 8.5,\n",
    "    16.5, 12.9, 7.7, 17.2, 13.3, 8.4, 16.7, 14.0, 9.5, 18.3,\n",
    "    13.4, 8.1, 17.9, 14.2, 7.6, 17.0, 12.8, 8.0, 16.8, 13.7,\n",
    "    7.8, 17.5, 13.6, 8.7, 17.1, 13.8, 9.2, 18.1, 13.9, 8.3,\n",
    "    16.4, 12.7, 8.9, 18.2, 13.1, 7.8, 16.6, 12.5\n",
    "]\n",
    "temperatures_fahrenheit = []\n",
    "for temp in temperatures:\n",
    "    f = (temp *9/5) + 32\n",
    "    temperatures_fahrenheit.append(f)\n",
    "print(f\" the number of elemnts in the new list of fahrenheit {temperatures_fahrenheit}\")"
   ]
  },
  {
   "cell_type": "code",
   "execution_count": 78,
   "id": "a34ac18a-b6c4-4fbd-b2a3-590405140415",
   "metadata": {},
   "outputs": [
    {
     "name": "stdout",
     "output_type": "stream",
     "text": [
      "THe list night: [7.9, 7.7, 7.6, 7.8, 7.8] the list evening: [8.2, 14.1, 13.5, 9.0, 13.0, 8.5, 12.9, 13.3, 8.4, 14.0, 9.5, 13.4, 8.1, 14.2, 12.8, 8.0, 13.7, 13.6, 8.7, 13.8, 9.2, 13.9, 8.3, 12.7, 8.9, 13.1, 12.5] the list day [17.4, 18.0, 17.8, 16.5, 17.2, 16.7, 18.3, 17.9, 17.0, 16.8, 17.5, 17.1, 18.1, 16.4, 18.2, 16.6]\n",
      "The average day temperature is 17.343750000000004\n"
     ]
    }
   ],
   "source": [
    "# task analyze temperature patterns by time of day\n",
    "import matplotlib.pyplot as plt\n",
    "night= []\n",
    "evening = []\n",
    "day = []\n",
    "temperatures = [\n",
    "    8.2, 17.4, 14.1, 7.9, 18.0, 13.5, 9.0, 17.8, 13.0, 8.5,\n",
    "    16.5, 12.9, 7.7, 17.2, 13.3, 8.4, 16.7, 14.0, 9.5, 18.3,\n",
    "    13.4, 8.1, 17.9, 14.2, 7.6, 17.0, 12.8, 8.0, 16.8, 13.7,\n",
    "    7.8, 17.5, 13.6, 8.7, 17.1, 13.8, 9.2, 18.1, 13.9, 8.3,\n",
    "    16.4, 12.7, 8.9, 18.2, 13.1, 7.8, 16.6, 12.5\n",
    "]\n",
    "# customized function to count length of list\n",
    "def counter(list_temperature):\n",
    "    i= 0\n",
    "    for item in list_temperature:\n",
    "        i = i +1\n",
    "    return(i)\n",
    "for temp in temperatures:\n",
    "    if temp > 0 and temp <8:\n",
    "        night.append(temp)\n",
    "    elif temp >= 8 and temp < 16:\n",
    "        evening.append(temp)\n",
    "    elif temp >= 16 and temp <= 24:\n",
    "        day.append(temp)\n",
    "print(f\"THe list night: {night} the list evening: {evening} the list day {day}\")\n",
    "total = 0\n",
    "for temp in day:\n",
    "    total = total + temp\n",
    "average_day = total/counter(day)\n",
    "print(f\"The average day temperature is {average_day}\")\n",
    "\n"
   ]
  },
  {
   "cell_type": "code",
   "execution_count": null,
   "id": "75b4a231-480e-4c31-9e2a-37a347efe884",
   "metadata": {},
   "outputs": [],
   "source": [
    "# excersisce 8.1.1"
   ]
  },
  {
   "cell_type": "code",
   "execution_count": 106,
   "id": "7faaa77d-2fdc-4691-949b-6bd824f59fa9",
   "metadata": {},
   "outputs": [
    {
     "data": {
      "text/plain": [
       "list"
      ]
     },
     "execution_count": 106,
     "metadata": {},
     "output_type": "execute_result"
    }
   ],
   "source": [
    "# example  factorail\n",
    "def factorial(n):\n",
    "    if n==0:\n",
    "        return 1\n",
    "    else:\n",
    "        return (n* factorial(n-1))\n",
    "factorial(8)\n",
    "ram = [1]\n",
    "type(ram)\n"
   ]
  },
  {
   "cell_type": "code",
   "execution_count": 122,
   "id": "193beef2-b393-443f-a6d4-ff2869a29978",
   "metadata": {},
   "outputs": [
    {
     "data": {
      "text/plain": [
       "36"
      ]
     },
     "execution_count": 122,
     "metadata": {},
     "output_type": "execute_result"
    }
   ],
   "source": [
    "# task 1 sum of nasted list:\n",
    "nested_list = [1, [2, [3, 4], 5], 6, [8, 7]]\n",
    "def sum_nested_list(nested_list):\n",
    "    total = 0\n",
    "    for item in nested_list:\n",
    "        if type(item) == int:\n",
    "            total = total + item\n",
    "        elif type(item) == list:\n",
    "            total  = total +  sum_nested_list(item)\n",
    "    return total\n",
    "\n",
    "sum_nested_list(nested_list)                    "
   ]
  },
  {
   "cell_type": "code",
   "execution_count": 157,
   "id": "9edd7efa-3807-44b7-9a9a-4b198953b392",
   "metadata": {},
   "outputs": [
    {
     "data": {
      "text/plain": [
       "['abc', 'acb', 'bac', 'bca', 'cab', 'cba']"
      ]
     },
     "execution_count": 157,
     "metadata": {},
     "output_type": "execute_result"
    }
   ],
   "source": [
    "# tassk generate all the possible permutations \n",
    "\n",
    "import math\n",
    "\n",
    "def generate_permutations_recursive(s, current_perm, permutation_list):\n",
    "    # Base case: If the current permutation is of the same length as the original string, add it to the list\n",
    "    if len(current_perm) == len(s):\n",
    "        if current_perm not in permutation_list:\n",
    "            permutation_list.append(current_perm)\n",
    "        return\n",
    "    \n",
    "    # Recurse for each character in the string\n",
    "    for i in range(len(s)):\n",
    "        if s[i] not in current_perm: \n",
    "            generate_permutations_recursive(s, current_perm + s[i], permutation_list)\n",
    "\n",
    "def generate_permutations(s):\n",
    "    permutation_list = []\n",
    "    \n",
    "    generate_permutations_recursive(s, '', permutation_list)\n",
    "    \n",
    "    return permutation_list\n",
    "\n",
    "input_string = \"abc\"\n",
    "result = generate_permutations(input_string)\n",
    "result"
   ]
  },
  {
   "cell_type": "code",
   "execution_count": 175,
   "id": "76aa30f3-cbf7-40ff-848e-67d421cde11b",
   "metadata": {},
   "outputs": [
    {
     "name": "stdout",
     "output_type": "stream",
     "text": [
      "The total size of the directory is : 1400\n"
     ]
    }
   ],
   "source": [
    "# task 3 directory size calculation\n",
    "directory_structure = {\n",
    "\"file1.txt\": 200,\n",
    "\"file2.txt\": 300,\n",
    "\"subdir1\": {\n",
    "\"file3.txt\": 400,\n",
    "\"file4.txt\": 100\n",
    "},\n",
    "\"subdir2\": {\n",
    "\"subsubdir1\": {\n",
    "\"file5.txt\": 250\n",
    "},\n",
    "    \"file6.txt\": 150\n",
    "}\n",
    "}\n",
    "\n",
    "def calculate_values(directory):\n",
    "    total_size = 0\n",
    "    for key , value in directory.items():\n",
    "        if type(value) == dict:\n",
    "            total_size = total_size + calculate_values(value)\n",
    "        else:\n",
    "            total_size = total_size + value\n",
    "    return total_size\n",
    "\n",
    "print(f\"The total size of the directory is : {calculate_values(directory_structure)}\")"
   ]
  },
  {
   "cell_type": "code",
   "execution_count": null,
   "id": "bb0fbe37-9d5c-4003-aef8-f97d59bc825b",
   "metadata": {},
   "outputs": [],
   "source": [
    "# coin change problem\n",
    "\n",
    "def min_coins(coins, amount):\n",
    "\n",
    "    dp = [float('inf')] * (amount + 1)\n",
    "    dp[0] = 0\n",
    "\n",
    "    for coin in coins:\n",
    "        for i in range(coin, amount + 1):\n",
    "            dp[i] = min(dp[i], dp[i - coin] + 1)\n",
    "\n",
    "    return dp[amount] if dp[amount] != float('inf') else -1\n",
    "\n",
    "#Task2\n",
    "coins = [1,2,5]\n",
    "amount=11\n",
    "result = min_coins(coins, amount)\n",
    "print(f\"The minimum number of coins{coins} needed to make the amount {amount} is\",result)\n"
   ]
  },
  {
   "cell_type": "code",
   "execution_count": null,
   "id": "7349e4d1-f00c-4a4c-902f-9368e56c4d98",
   "metadata": {},
   "outputs": [],
   "source": [
    "def longest_common_subsequence(s1, s2):\n",
    "    # Initialize a DP table with dimensions (len(s1)+1) x (len(s2)+1)\n",
    "    dp = [[0] * (len(s2) + 1) for _ in range(len(s1) + 1)]\n",
    "\n",
    "    # Fill the DP table\n",
    "    for i in range(1, len(s1) + 1):\n",
    "        for j in range(1, len(s2) + 1):\n",
    "            if s1[i - 1] == s2[j - 1]:\n",
    "                dp[i][j] = dp[i - 1][j - 1] + 1  # Characters match\n",
    "            else:\n",
    "                dp[i][j] = max(dp[i - 1][j], dp[i][j - 1])\n",
    "\n",
    "    # The bottom-right corner of the table contains the length of the LCS\n",
    "    return dp[len(s1)][len(s2)]\n",
    "\n",
    "# Test with strings\n",
    "s1 = \"abcde\"\n",
    "s2 = \"ace\"\n",
    "print(f\"Length of LCS between '{s1}' and '{s2}':\", longest_common_subsequence(s1, s2))"
   ]
  },
  {
   "cell_type": "code",
   "execution_count": null,
   "id": "8d5489f9-4b56-4383-a00b-a93f7c95e069",
   "metadata": {},
   "outputs": [],
   "source": [
    "def knapsack(weights, values, capacity):\n",
    "    n = len(weights)  # Number of items\n",
    "    dp = [[0] * (capacity + 1) for _ in range(n + 1)]\n",
    "\n",
    "    for i in range(1, n + 1):  # Loop through items\n",
    "        for w in range(1, capacity + 1):  # Loop through each weight capacity\n",
    "            if weights[i - 1] <= w:\n",
    "                # Item can be included: take max of including or excluding the item\n",
    "                dp[i][w] = max(dp[i - 1][w], values[i - 1] + dp[i - 1][w - weights[i - 1]])\n",
    "            else:\n",
    "                # Item cannot be included: value is same as without this item\n",
    "                dp[i][w] = dp[i - 1][w]\n",
    "\n",
    "    # The bottom-right corner of the table contains the maximum value\n",
    "    return dp[n][capacity]\n",
    "\n",
    "# Test the function\n",
    "weights = [1, 3, 4, 5]\n",
    "values = [1, 4, 5, 7]\n",
    "capacity = 7\n",
    "print(f\"Maximum value for capacity {capacity}:\", knapsack(weights, values, capacity))"
   ]
  }
 ],
 "metadata": {
  "kernelspec": {
   "display_name": "Python 3 (ipykernel)",
   "language": "python",
   "name": "python3"
  },
  "language_info": {
   "codemirror_mode": {
    "name": "ipython",
    "version": 3
   },
   "file_extension": ".py",
   "mimetype": "text/x-python",
   "name": "python",
   "nbconvert_exporter": "python",
   "pygments_lexer": "ipython3",
   "version": "3.12.7"
  }
 },
 "nbformat": 4,
 "nbformat_minor": 5
}
