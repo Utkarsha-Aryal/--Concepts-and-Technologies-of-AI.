{
 "cells": [
  {
   "cell_type": "code",
   "execution_count": 3,
   "id": "5afe2dd3-38f6-4c05-b5a7-01ce7e07f02e",
   "metadata": {},
   "outputs": [
    {
     "name": "stdout",
     "output_type": "stream",
     "text": [
      "Array:\n",
      "5\n",
      "Dimension: 0\n",
      "Data type: int32\n",
      "\n",
      "Array:\n",
      "[1 2 3]\n",
      "Dimension: 1\n",
      "Data type: int32\n",
      "\n",
      "Array:\n",
      "[[1 2]\n",
      " [3 4]]\n",
      "Dimension: 2\n",
      "Data type: int32\n",
      "\n"
     ]
    }
   ],
   "source": [
    "import numpy as np\n",
    "# Create and display zero, one, and n-dimensional arrays\n",
    "zero_dim_array = np.array(5)\n",
    "one_dim_array = np.array([1, 2, 3])\n",
    "n_dim_array = np.array([[1, 2], [3, 4]])\n",
    "for arr in [zero_dim_array, one_dim_array, n_dim_array]:\n",
    "    print(f\"Array:\\n{arr}\\nDimension: {arr.ndim}\\nData type: {arr.dtype}\\n\")"
   ]
  },
  {
   "cell_type": "code",
   "execution_count": 11,
   "id": "901709b9-15aa-4ae6-86e9-6310bd18b37e",
   "metadata": {},
   "outputs": [
    {
     "name": "stdout",
     "output_type": "stream",
     "text": [
      "0D Array:\n",
      "5\n",
      "Shape: ()\n",
      "\n",
      "1D Array:\n",
      "[1 2 3 4 5]\n",
      "Shape: (5,)\n",
      "\n",
      "2D Array:\n",
      "[[1 2 3]\n",
      " [4 5 6]]\n",
      "Shape: (2, 3)\n",
      "\n",
      "3D Array:\n",
      "[[[1 2]\n",
      "  [3 4]\n",
      "  [5 6]\n",
      "  [7 8]]]\n",
      "Shape: (1, 4, 2)\n",
      "\n"
     ]
    }
   ],
   "source": [
    "# 2 Array Dimension: Shape and Reshape of Array :\n",
    "import numpy as np\n",
    "array_0d = np.array(5)\n",
    "array_1d = np.array([1,2,3,4,5])\n",
    "array_2d = np.array([[1,2,3],[4,5,6]])\n",
    "array_3d = np.array([[[1,2],[3,4],[5,6],[7,8]]])\n",
    "# print arrays with shapes\n",
    "for i, arr in enumerate([array_0d,array_1d,array_2d,array_3d]):\n",
    "    print(f\"{i}D Array:\\n{arr}\\nShape: {arr.shape}\\n\")\n"
   ]
  },
  {
   "cell_type": "code",
   "execution_count": 25,
   "id": "e156b8c7-94bd-4ff7-9e72-cc21af414599",
   "metadata": {},
   "outputs": [
    {
     "name": "stdout",
     "output_type": "stream",
     "text": [
      "Original Shape (2, 3) \n",
      "Reshaped Shape: (3, 2)\n",
      "[[1 2 3]\n",
      " [4 5 6]]\n",
      "[[1 2]\n",
      " [3 4]\n",
      " [5 6]]\n"
     ]
    }
   ],
   "source": [
    "# Reshaping Array\n",
    "import numpy as np\n",
    "array = np.array([[1,2,3],[4,5,6]])\n",
    "reshaped_array = array.reshape(3,2)\n",
    "print(\"Original Shape: \",array.shape,\"\\nReshaped Shape:\",reshaped_array.shape)\n",
    "print(array )\n",
    "print(reshaped_array)"
   ]
  },
  {
   "cell_type": "code",
   "execution_count": 29,
   "id": "bae73988-f1ef-4ffe-ac4d-bb837f03abcd",
   "metadata": {},
   "outputs": [
    {
     "name": "stdout",
     "output_type": "stream",
     "text": [
      "Original Shape: (2, 3) \n",
      "Reshaped Shape: (3, 2)\n"
     ]
    }
   ],
   "source": [
    "# Sample code from slide -17 Reshaping an Array\n",
    "import numpy as np\n",
    "array = np.array([[1,2,3],[4,5,6]])\n",
    "reshaped_array = array.reshape(3,2)\n",
    "print(\"Original Shape:\",array.shape,\"\\nReshaped Shape:\",reshaped_array.shape)"
   ]
  },
  {
   "cell_type": "code",
   "execution_count": 41,
   "id": "9a279126-1b55-4ff1-86d5-1cac27b857a5",
   "metadata": {},
   "outputs": [
    {
     "name": "stdout",
     "output_type": "stream",
     "text": [
      "[1 2 3 4 5 6 7 8 9]\n",
      "range(1, 10)\n",
      "[1, 2, 3, 4, 5, 6, 7, 8, 9]\n",
      "[ 0.  1.  2.  3.  4.  5.  6.  7.  8.  9. 10.]\n",
      "[ 0.5  1.3  2.1  2.9  3.7  4.5  5.3  6.1  6.9  7.7  8.5  9.3 10.1]\n"
     ]
    }
   ],
   "source": [
    "# Array Creation\n",
    "# Arrays with \n",
    "# slide 18\n",
    "import numpy as np\n",
    "a = np.arange(1,10)\n",
    "print(a)\n",
    "x = range(1,10)\n",
    "print(x)\n",
    "print(list(x))\n",
    "x= np.arange(10.4)\n",
    "print(x)\n",
    "x = np.arange(0.5,10.4,0.8)\n",
    "print(x)"
   ]
  },
  {
   "cell_type": "code",
   "execution_count": 43,
   "id": "af89d807-0a5a-46c4-8bcf-80eb6428e513",
   "metadata": {},
   "outputs": [
    {
     "name": "stdout",
     "output_type": "stream",
     "text": [
      "[ 1.          1.18367347  1.36734694  1.55102041  1.73469388  1.91836735\n",
      "  2.10204082  2.28571429  2.46938776  2.65306122  2.83673469  3.02040816\n",
      "  3.20408163  3.3877551   3.57142857  3.75510204  3.93877551  4.12244898\n",
      "  4.30612245  4.48979592  4.67346939  4.85714286  5.04081633  5.2244898\n",
      "  5.40816327  5.59183673  5.7755102   5.95918367  6.14285714  6.32653061\n",
      "  6.51020408  6.69387755  6.87755102  7.06122449  7.24489796  7.42857143\n",
      "  7.6122449   7.79591837  7.97959184  8.16326531  8.34693878  8.53061224\n",
      "  8.71428571  8.89795918  9.08163265  9.26530612  9.44897959  9.63265306\n",
      "  9.81632653 10.        ]\n",
      "[ 1.   2.5  4.   5.5  7.   8.5 10. ]\n",
      "[1.         2.28571429 3.57142857 4.85714286 6.14285714 7.42857143\n",
      " 8.71428571]\n"
     ]
    }
   ],
   "source": [
    "# Sample Code from Slide - 19 - Arrays with evenly Spaced values - linspace.\n",
    "import numpy as np\n",
    "# 50 values between 1 and 10:\n",
    "print(np.linspace(1,10))\n",
    "# 7 values between 1 and 10 \n",
    "print(np.linspace(1,10,7))\n",
    "# excludeing the endpoint\n",
    "print(np.linspace(1,10,7,endpoint=False))"
   ]
  },
  {
   "cell_type": "code",
   "execution_count": 45,
   "id": "4213205f-53ff-4dfc-a668-590792a7f2e0",
   "metadata": {},
   "outputs": [
    {
     "name": "stdout",
     "output_type": "stream",
     "text": [
      "[[1. 1. 1.]\n",
      " [1. 1. 1.]]\n",
      "\n",
      "[[0. 0.]\n",
      " [0. 0.]\n",
      " [0. 0.]]\n",
      "\n",
      "[[6.23042070e-307 4.67296746e-307 1.69121096e-306]\n",
      " [2.33644129e-307 1.69113762e-306 1.33511562e-306]]\n",
      "\n",
      "[[1. 0. 0.]\n",
      " [0. 1. 0.]\n",
      " [0. 0. 1.]]\n"
     ]
    }
   ],
   "source": [
    "# Sample Code form slide - 20 - Initializing an Array.\n",
    "import numpy as np\n",
    "# Create arrays of specified shapes\n",
    "ones_array = np.ones((2,3))\n",
    "zeros_array = np.zeros((3,2))\n",
    "empty_array = np.empty((2,3))\n",
    "identity_matrix = np.eye(3)\n",
    "print(ones_array,zeros_array,empty_array,identity_matrix,sep='\\n\\n')"
   ]
  },
  {
   "cell_type": "code",
   "execution_count": 47,
   "id": "5821ec98-4159-44d5-b72b-49cc9ecae763",
   "metadata": {},
   "outputs": [
    {
     "name": "stdout",
     "output_type": "stream",
     "text": [
      "[1 2 3]\n",
      "[4 5 6]\n",
      "[[1 2 3]\n",
      " [4 5 6]]\n"
     ]
    }
   ],
   "source": [
    "# Sample Code form slide - 21 - Converting list to array using np.array.\n",
    "import numpy as np\n",
    "array_from_list = np.array([1,2,3]) # [1 2 3]\n",
    "array_from_tuple = np.array((4,5,6))\n",
    "array_from_nested_list = np.array([[1,2,3],[4,5,6]])\n",
    "print(array_from_list,array_from_tuple,array_from_nested_list, sep='\\n')"
   ]
  },
  {
   "cell_type": "code",
   "execution_count": 49,
   "id": "b85c53f0-6e27-4a69-964d-3af22bf1e2c3",
   "metadata": {},
   "outputs": [
    {
     "name": "stdout",
     "output_type": "stream",
     "text": [
      "[[1 2 3]\n",
      " [4 5 6]]\n",
      "[[0. 0. 0.]\n",
      " [0. 0. 0.]]\n",
      "[[1. 1. 1.]\n",
      " [1. 1. 1.]]\n",
      "[[6.23042070e-307 4.67296746e-307 1.69121096e-306]\n",
      " [2.33644129e-307 1.69113762e-306 1.33511562e-306]]\n"
     ]
    }
   ],
   "source": [
    "# Sample Code form slide - 22 - From shape of an existing array.\n",
    "import numpy as np\n",
    "arr = np.array([[1,2,3],[4,5,6]])\n",
    "zeros, ones, empty = np.zeros(arr.shape), np.ones(arr.shape), np.empty(arr.shape)\n",
    "print(arr,zeros,ones,empty,sep='\\n')"
   ]
  },
  {
   "cell_type": "code",
   "execution_count": 53,
   "id": "77c2efa6-f36e-4bfa-a908-4e16bf0d22eb",
   "metadata": {},
   "outputs": [
    {
     "name": "stdout",
     "output_type": "stream",
     "text": [
      "[1 2 3]\n",
      "[2 4 6]\n",
      "[1 2 3]\n",
      "[2]\n"
     ]
    }
   ],
   "source": [
    "# Sample Code form slide - 23 - Manipulatiing existing array.\n",
    "import numpy as np\n",
    "array = np.array([1,2,3])\n",
    "new_array = array *2\n",
    "copies_array = np.copy(array)\n",
    "sliced_array = array[1:2]\n",
    "print(array,new_array,copies_array,sliced_array,sep='\\n')\n"
   ]
  },
  {
   "cell_type": "code",
   "execution_count": 57,
   "id": "30fef2c3-ca68-4ac3-92e6-0ad6b37884c7",
   "metadata": {},
   "outputs": [
    {
     "name": "stdout",
     "output_type": "stream",
     "text": [
      "[[2.12199579e-314 1.24773353e-311]\n",
      " [2.94463125e-321 6.95314361e-310]]\n"
     ]
    }
   ],
   "source": [
    "# Warming up exercise:Basic Vector and Matrix Operation with Numpy\n",
    "# qn 1\n",
    "import numpy as np\n",
    "empty_array = np.empty((2,2))\n",
    "print(empty_array)"
   ]
  },
  {
   "cell_type": "code",
   "execution_count": 61,
   "id": "207e5452-31b7-4242-8cce-77fe5da24b12",
   "metadata": {},
   "outputs": [
    {
     "name": "stdout",
     "output_type": "stream",
     "text": [
      "[[1. 1.]\n",
      " [1. 1.]\n",
      " [1. 1.]\n",
      " [1. 1.]]\n"
     ]
    }
   ],
   "source": [
    "# initialize an all one array with size 4*2\n",
    "# qn 2\n",
    "import numpy as np\n",
    "one_array = np.ones((4,2))\n",
    "print(one_array)"
   ]
  },
  {
   "cell_type": "code",
   "execution_count": 63,
   "id": "6dec478e-8ad5-48de-b570-f61109597ead",
   "metadata": {},
   "outputs": [
    {
     "name": "stdout",
     "output_type": "stream",
     "text": [
      "[[7 7 7]\n",
      " [7 7 7]\n",
      " [7 7 7]]\n"
     ]
    }
   ],
   "source": [
    "# Return a new array of given shape and type, filled with fill value.{Hint: np.full}\n",
    "# qn3\n",
    "import numpy as np\n",
    "array = np.full((3,3),7)\n",
    "print(array)"
   ]
  },
  {
   "cell_type": "code",
   "execution_count": 65,
   "id": "575dbdf3-561c-4d5b-9f3d-b9cee332114e",
   "metadata": {},
   "outputs": [
    {
     "name": "stdout",
     "output_type": "stream",
     "text": [
      "[[0 0 0]\n",
      " [0 0 0]]\n"
     ]
    }
   ],
   "source": [
    "# Return a new array of zeros with same shape and type as a given array.{Hint: np.zeros like}\n",
    "# qn4\n",
    "import numpy as np\n",
    "original_array = np.array([[1,2,3],[4,5,6]])\n",
    "zeros_array = np.zeros_like(original_array)\n",
    "print(zeros_array)"
   ]
  },
  {
   "cell_type": "code",
   "execution_count": 67,
   "id": "0d97f82c-1108-4aad-8717-6eca46857211",
   "metadata": {},
   "outputs": [
    {
     "name": "stdout",
     "output_type": "stream",
     "text": [
      "[[1 1 1]\n",
      " [1 1 1]]\n"
     ]
    }
   ],
   "source": [
    "# Return a new array of ones with same shape and type as a given array.{Hint: np.ones like}\n",
    "# qn5\n",
    "import numpy as np\n",
    "original_array = np.array([[3,4,5],[6,7,8]])\n",
    "ones_array = np.ones_like(original_array)\n",
    "print(ones_array)"
   ]
  },
  {
   "cell_type": "code",
   "execution_count": 69,
   "id": "01a4bb5d-ec63-42a3-a2e6-aa85ca20b162",
   "metadata": {},
   "outputs": [
    {
     "name": "stdout",
     "output_type": "stream",
     "text": [
      "[1 2 3 4]\n"
     ]
    }
   ],
   "source": [
    "# For an existing list new_list = [1,2,3,4] convert to an numpy array.{Hint: np.array()}\n",
    "# qn6\n",
    "import numpy as np\n",
    "new_list = [1,2,3,4]\n",
    "to_array = np.array(new_list)\n",
    "print(to_array)"
   ]
  },
  {
   "cell_type": "code",
   "execution_count": 71,
   "id": "36818850-0a1f-483f-bc1c-23971b4a92d7",
   "metadata": {},
   "outputs": [
    {
     "name": "stdout",
     "output_type": "stream",
     "text": [
      "[ 1  2  3  4  5  6  7  8  9 10 11 12 13 14 15 16 17 18 19 20 21 22 23 24\n",
      " 25 26 27 28 29 30 31 32 33 34 35 36 37 38 39 40 41 42 43 44 45 46 47 48\n",
      " 49]\n"
     ]
    }
   ],
   "source": [
    "# Problem - 2: Array Manipulation: Numerical Ranges and Array indexing:\n",
    "# qn 1\n",
    "import numpy as np\n",
    "a = np.arange(1,50)\n",
    "print(a)"
   ]
  },
  {
   "cell_type": "code",
   "execution_count": 91,
   "id": "6f557d26-c45e-44cf-b826-bfface2c99b4",
   "metadata": {},
   "outputs": [
    {
     "name": "stdout",
     "output_type": "stream",
     "text": [
      "[[0 1 2]\n",
      " [3 4 5]\n",
      " [6 7 8]]\n"
     ]
    }
   ],
   "source": [
    "# qn2\n",
    "import numpy as np\n",
    "array = np.arange(9)\n",
    "matrix = array.reshape(3,3)\n",
    "print(matrix)"
   ]
  },
  {
   "cell_type": "code",
   "execution_count": 95,
   "id": "75dd7174-72d3-404c-8068-e21b6c488569",
   "metadata": {},
   "outputs": [
    {
     "name": "stdout",
     "output_type": "stream",
     "text": [
      "[[1. 0. 0.]\n",
      " [0. 1. 0.]\n",
      " [0. 0. 1.]]\n"
     ]
    }
   ],
   "source": [
    "# qn3\n",
    "import numpy as np\n",
    "identity_matrix = np.eye(3)\n",
    "print(identity_matrix)"
   ]
  },
  {
   "cell_type": "code",
   "execution_count": 105,
   "id": "2e375d5c-c5b3-47c1-ab43-5cfa39e311e5",
   "metadata": {},
   "outputs": [
    {
     "name": "stdout",
     "output_type": "stream",
     "text": [
      "0.5605313139312033\n"
     ]
    }
   ],
   "source": [
    "# qn4\n",
    "import numpy as np\n",
    "array = np.random.random(30)\n",
    "mean_matrix = array.mean()\n",
    "print(mean_matrix)"
   ]
  },
  {
   "cell_type": "code",
   "execution_count": 117,
   "id": "7d3843f0-3ce6-4726-9bc7-fdb998a315b6",
   "metadata": {},
   "outputs": [
    {
     "name": "stdout",
     "output_type": "stream",
     "text": [
      "[[0.17427105 0.60228878 0.74888207 0.71277313 0.49292527 0.87055992\n",
      "  0.63177757 0.58610395 0.38431468 0.95749843]\n",
      " [0.33623303 0.9620675  0.68443781 0.47490731 0.29503425 0.04095913\n",
      "  0.42420855 0.03962821 0.02591018 0.64709942]\n",
      " [0.65673031 0.22902483 0.79117773 0.66477678 0.46559624 0.44334924\n",
      "  0.89893975 0.36673539 0.31930371 0.87929386]\n",
      " [0.20403056 0.70888822 0.15304306 0.10476233 0.38064333 0.07080773\n",
      "  0.45399784 0.96182653 0.92670607 0.099623  ]\n",
      " [0.09562349 0.27508267 0.85104519 0.98075073 0.94525661 0.92812036\n",
      "  0.60074782 0.76747831 0.53458964 0.87046681]\n",
      " [0.37322697 0.84095669 0.60352934 0.6862609  0.91946377 0.7981548\n",
      "  0.17625113 0.68685442 0.15185466 0.42536466]\n",
      " [0.73234418 0.60802772 0.2915939  0.03688959 0.13452716 0.97099422\n",
      "  0.22074881 0.12637544 0.37099991 0.95595328]\n",
      " [0.30704553 0.86527297 0.55722904 0.54240829 0.98506502 0.10388934\n",
      "  0.54432339 0.2048287  0.68887173 0.04986812]\n",
      " [0.0379137  0.58694113 0.31889562 0.59981802 0.73582127 0.33570434\n",
      "  0.48014139 0.55928758 0.9337006  0.97618719]\n",
      " [0.03482471 0.92413663 0.15254055 0.62977958 0.23625964 0.33593379\n",
      "  0.28644277 0.89650474 0.20143153 0.17622935]]\n",
      "0.9850650213862467\n",
      "0.025910177606822904\n"
     ]
    }
   ],
   "source": [
    "# qn5\n",
    "import numpy as np \n",
    "array = np.random.random(100)\n",
    "reshape_array = array.reshape(10,10)\n",
    "print(reshape_array)\n",
    "maximum_value = reshape_array.max()\n",
    "minimum_value = reshape_array.min()\n",
    "print(maximum_value)\n",
    "print(minimum_value)"
   ]
  },
  {
   "cell_type": "code",
   "execution_count": 121,
   "id": "daa7cf2b-8087-46d4-8a4a-02e7bdc0a213",
   "metadata": {},
   "outputs": [
    {
     "name": "stdout",
     "output_type": "stream",
     "text": [
      "[0. 0. 0. 0. 0. 1. 0. 0. 0. 0.]\n"
     ]
    }
   ],
   "source": [
    "# qn6\n",
    "import numpy as np\n",
    "zeros_array = np.zeros(10)\n",
    "zeros_array[5] = 1\n",
    "print(zeros_array)"
   ]
  },
  {
   "cell_type": "code",
   "execution_count": 127,
   "id": "77fea502-57a9-42db-8962-24e2fdf7be66",
   "metadata": {},
   "outputs": [
    {
     "name": "stdout",
     "output_type": "stream",
     "text": [
      "[0 4 0 0 2 1]\n"
     ]
    }
   ],
   "source": [
    "# qn7\n",
    "arr = [1,2,0,0,4,0]\n",
    "revers_array = np.flip(arr)\n",
    "print(revers_array)"
   ]
  },
  {
   "cell_type": "code",
   "execution_count": 131,
   "id": "cb29cfbd-5a3e-4008-a32f-5f4e8a52e73f",
   "metadata": {},
   "outputs": [
    {
     "name": "stdout",
     "output_type": "stream",
     "text": [
      "[[0 0 0 0 0 0]\n",
      " [0 0 0 0 0 0]\n",
      " [0 0 0 0 0 0]\n",
      " [0 0 0 0 0 0]\n",
      " [0 0 0 0 0 0]\n",
      " [0 0 0 0 0 0]]\n",
      "[[1 1 1 1 1 1]\n",
      " [0 0 0 0 0 0]\n",
      " [0 0 0 0 0 0]\n",
      " [0 0 0 0 0 0]\n",
      " [0 0 0 0 0 0]\n",
      " [0 0 0 0 0 0]]\n",
      "[[1 1 1 1 1 1]\n",
      " [0 0 0 0 0 0]\n",
      " [0 0 0 0 0 0]\n",
      " [0 0 0 0 0 0]\n",
      " [0 0 0 0 0 0]\n",
      " [1 1 1 1 1 1]]\n",
      "[[1 1 1 1 1 1]\n",
      " [1 0 0 0 0 0]\n",
      " [1 0 0 0 0 0]\n",
      " [1 0 0 0 0 0]\n",
      " [1 0 0 0 0 0]\n",
      " [1 1 1 1 1 1]]\n",
      "[[1 1 1 1 1 1]\n",
      " [1 0 0 0 0 1]\n",
      " [1 0 0 0 0 1]\n",
      " [1 0 0 0 0 1]\n",
      " [1 0 0 0 0 1]\n",
      " [1 1 1 1 1 1]]\n"
     ]
    }
   ],
   "source": [
    "# qn8\n",
    "import numpy as np\n",
    "rows ,cols = 6,6\n",
    "array = np.zeros((rows,cols),dtype=int)\n",
    "print(array)\n",
    "# 1st row\n",
    "array[0,:] =1\n",
    "print(array)\n",
    "# last row\n",
    "array[-1,:]=1\n",
    "print(array)\n",
    "# 1st column\n",
    "array[:,0]=1\n",
    "print(array)\n",
    "# last column\n",
    "array[:,-1]=1\n",
    "print(array)"
   ]
  },
  {
   "cell_type": "code",
   "execution_count": 135,
   "id": "8f39007b-ada2-4ea6-8186-3c18a50b980d",
   "metadata": {},
   "outputs": [
    {
     "name": "stdout",
     "output_type": "stream",
     "text": [
      "[[0 0 0 0 0 0 0 0]\n",
      " [0 0 0 0 0 0 0 0]\n",
      " [0 0 0 0 0 0 0 0]\n",
      " [0 0 0 0 0 0 0 0]\n",
      " [0 0 0 0 0 0 0 0]\n",
      " [0 0 0 0 0 0 0 0]\n",
      " [0 0 0 0 0 0 0 0]\n",
      " [0 0 0 0 0 0 0 0]]\n",
      "[[0 0 0 0 0 0 0 0]\n",
      " [1 0 1 0 1 0 1 0]\n",
      " [0 0 0 0 0 0 0 0]\n",
      " [1 0 1 0 1 0 1 0]\n",
      " [0 0 0 0 0 0 0 0]\n",
      " [1 0 1 0 1 0 1 0]\n",
      " [0 0 0 0 0 0 0 0]\n",
      " [1 0 1 0 1 0 1 0]]\n",
      "[[0 1 0 1 0 1 0 1]\n",
      " [1 0 1 0 1 0 1 0]\n",
      " [0 1 0 1 0 1 0 1]\n",
      " [1 0 1 0 1 0 1 0]\n",
      " [0 1 0 1 0 1 0 1]\n",
      " [1 0 1 0 1 0 1 0]\n",
      " [0 1 0 1 0 1 0 1]\n",
      " [1 0 1 0 1 0 1 0]]\n"
     ]
    }
   ],
   "source": [
    "import  numpy as np \n",
    "rows , cols = 8,8\n",
    "checkerboard = np.zeros((rows,cols),dtype=int)\n",
    "print(checkerboard)\n",
    "checkerboard[1::2, ::2] = 1 #Odd rows ,even columns\n",
    "print(checkerboard)\n",
    "checkerboard[::2, 1::2] = 1  # Even rows, odd columns\n",
    "print(checkerboard)"
   ]
  },
  {
   "cell_type": "code",
   "execution_count": null,
   "id": "e25deec0-b166-49df-8c6e-180d46467b79",
   "metadata": {},
   "outputs": [],
   "source": [
    "# matrix multiplications\n",
    "import numpy as np\n",
    "# Define two matrices\n",
    "A = np.array([[1, 2, 3], [4, 5, 6]])\n",
    "B = np.array([[7, 8], [9, 10], [11, 12]])\n",
    "# Matrix multiplication using np.dot\n",
    "result_dot = np.dot(A, B)\n",
    "print(\"Result with np.dot:\\n\", result_dot) # Output shape: (2, 2)"
   ]
  },
  {
   "cell_type": "code",
   "execution_count": 139,
   "id": "d479f54e-4ed8-4031-b1b9-91d9c4a06072",
   "metadata": {},
   "outputs": [
    {
     "name": "stdout",
     "output_type": "stream",
     "text": [
      "Inverse:\n",
      " [[-2.   1. ]\n",
      " [ 1.5 -0.5]]\n",
      "Determinant: -2.0000000000000004\n",
      "Frobenius Norm: 5.477225575051661\n",
      "2-Norm (Euclidean): 5.477225575051661\n",
      "Solution x: [-4.   4.5]\n"
     ]
    }
   ],
   "source": [
    "import numpy as np\n",
    "A = np.array([[1, 2], [3, 4]])\n",
    "B = np.array([5, 6])\n",
    "print(\"Inverse:\\n\", np.linalg.inv(A))\n",
    "# Output: Inverse: [[-2. 1. ], [ 1.5 -0.5]]\n",
    "print(\"Determinant:\", np.linalg.det(A))\n",
    "# Output: Determinant: -2.0\n",
    "print(\"Frobenius Norm:\", np.linalg.norm(A, 'fro'))\n",
    "# Output: Frobenius Norm: 5.4772\n",
    "print(\"2-Norm (Euclidean):\", np.linalg.norm(A))\n",
    "# Outptut: 2-Norm(Euclidean): 5.4772\n",
    "print(\"Solution x:\", np.linalg.solve(A,B))"
   ]
  },
  {
   "cell_type": "code",
   "execution_count": 143,
   "id": "2f3b92a3-99b3-4b22-83ad-4c880ff2d1ab",
   "metadata": {},
   "outputs": [
    {
     "name": "stdout",
     "output_type": "stream",
     "text": [
      "[[1. 0.]\n",
      " [0. 1.]]\n"
     ]
    }
   ],
   "source": [
    "# qn1 \n",
    "A = np.array([[3,4],[7,4]])\n",
    "A_inverse = np.linalg.inv(A)\n",
    "I = np.dot(A,A_inverse)\n",
    "print(I)"
   ]
  },
  {
   "cell_type": "code",
   "execution_count": 155,
   "id": "e1aee040-a99e-4aee-a815-e58e02f4351a",
   "metadata": {},
   "outputs": [
    {
     "name": "stdout",
     "output_type": "stream",
     "text": [
      "[[23 13]\n",
      " [43 25]]\n",
      "[[36 32]\n",
      " [13 12]]\n"
     ]
    }
   ],
   "source": [
    "# qn2\n",
    "import numpy as np\n",
    "A = np.array([[3,4],[7,4]])\n",
    "B = np.array([[5,3],[2,1]])\n",
    "A_B = np.dot(A,B)\n",
    "B_A = np.dot(B,A)\n",
    "print(A_B)\n",
    "print(B_A)\n"
   ]
  },
  {
   "cell_type": "code",
   "execution_count": 161,
   "id": "f403230e-5b8c-46cf-b32c-66b39df521a7",
   "metadata": {},
   "outputs": [
    {
     "name": "stdout",
     "output_type": "stream",
     "text": [
      "(AB)^T  =  [[23 43]\n",
      " [13 25]]\n",
      "B^TA^T =  [[23 43]\n",
      " [13 25]]\n"
     ]
    }
   ],
   "source": [
    "# qn3\n",
    "import numpy as np\n",
    "A = np.array([[3,4],[7,4]])\n",
    "B = np.array([[5,3],[2,1]])\n",
    "AB = np.dot(A,B)\n",
    "TA = A.transpose()\n",
    "TB = B.transpose()\n",
    "BTAT = np.dot(TB,TA)\n",
    "ABT = AB.transpose()\n",
    "print(\"(AB)^T  = \",ABT )\n",
    "print(\"B^TA^T = \",BTAT)"
   ]
  },
  {
   "cell_type": "code",
   "execution_count": 171,
   "id": "ec639422-35dd-460b-9914-20eb78237bb1",
   "metadata": {},
   "outputs": [
    {
     "name": "stdout",
     "output_type": "stream",
     "text": [
      "X= [2.] Y= [1.] Z= [-2.]\n"
     ]
    }
   ],
   "source": [
    "import numpy as np\n",
    "A = np.array([[2,-3,1],[1,-1,2],[3,1,-1]])\n",
    "B = np.array([[-1],[-3],[9]])\n",
    "IA = np.linalg.inv(A)\n",
    "X = np.dot(IA,B)\n",
    "print(\"X=\",X[0],\"Y=\" ,X[1],\"Z=\", X[2])"
   ]
  },
  {
   "cell_type": "code",
   "execution_count": 177,
   "id": "5cf41895-8e5b-4b1e-bba3-dfcfb6b110f1",
   "metadata": {},
   "outputs": [
    {
     "name": "stdout",
     "output_type": "stream",
     "text": [
      "[[ 6  8]\n",
      " [10 13]]\n",
      "[[-4 -4]\n",
      " [-4 -3]]\n",
      "[[19 22]\n",
      " [50 58]]\n",
      "[[ 1  4]\n",
      " [ 9 25]]\n"
     ]
    }
   ],
   "source": [
    "import numpy as np\n",
    "x = np.array([[1,2],[3,5]])\n",
    "y = np.array([[5,6],[7,8]])\n",
    "v = np.array([9,10])\n",
    "w = np.array([11,12])\n",
    "add = np.add(x,y)\n",
    "print(add)\n",
    "subtract = np.subtract(x,y)\n",
    "print(subtract)\n",
    "multiply = np.dot(x,y)\n",
    "print(multiply)\n",
    "x2 = np.power(x,2)\n",
    "print(x2)"
   ]
  },
  {
   "cell_type": "code",
   "execution_count": null,
   "id": "90e91dc5-81bb-4fc5-b9f9-0474c750827f",
   "metadata": {},
   "outputs": [],
   "source": []
  }
 ],
 "metadata": {
  "kernelspec": {
   "display_name": "Python 3 (ipykernel)",
   "language": "python",
   "name": "python3"
  },
  "language_info": {
   "codemirror_mode": {
    "name": "ipython",
    "version": 3
   },
   "file_extension": ".py",
   "mimetype": "text/x-python",
   "name": "python",
   "nbconvert_exporter": "python",
   "pygments_lexer": "ipython3",
   "version": "3.12.7"
  }
 },
 "nbformat": 4,
 "nbformat_minor": 5
}
