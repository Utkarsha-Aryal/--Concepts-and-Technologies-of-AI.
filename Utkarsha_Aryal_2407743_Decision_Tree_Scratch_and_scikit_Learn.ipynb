{
  "cells": [
    {
      "cell_type": "markdown",
      "metadata": {
        "id": "QI2E65-d5ndT"
      },
      "source": [
        "# Custom vs. Scikit learn Built Decision Tree\n"
      ]
    },
    {
      "cell_type": "markdown",
      "metadata": {
        "id": "7uIyiQsd53sk"
      },
      "source": [
        "## Buld a Custom Decision Tree\n"
      ]
    },
    {
      "cell_type": "code",
      "execution_count": 1,
      "metadata": {
        "id": "9fW-OvrOr_1b"
      },
      "outputs": [],
      "source": [
        "import numpy as np\n",
        "\n",
        "class CustomDecisionTree:\n",
        "    def __init__(self, max_depth=None):\n",
        "        \"\"\"\n",
        "        Initializes the decision tree with the specified maximum depth.\n",
        "\n",
        "        Parameters:\n",
        "        max_depth (int, optional): The maximum depth of the tree. If None, the tree is expanded until all leaves are pure or contain fewer than the minimum samples required to split.\n",
        "        \"\"\"\n",
        "        self.max_depth = max_depth\n",
        "        self.tree = None\n",
        "\n",
        "    def fit(self, X, y):\n",
        "        \"\"\"\n",
        "        Trains the decision tree model using the provided training data.\n",
        "\n",
        "        Parameters:\n",
        "        X (array-like): Feature matrix (n_samples, n_features) for training the model.\n",
        "        y (array-like): Target labels (n_samples,) for training the model.\n",
        "        \"\"\"\n",
        "        self.tree = self._build_tree(X, y)\n",
        "\n",
        "    def _build_tree(self, X, y, depth=0):\n",
        "        \"\"\"\n",
        "        Recursively builds the decision tree by splitting the data based on the best feature and threshold.\n",
        "\n",
        "        Parameters:\n",
        "        X (array-like): Feature matrix (n_samples, n_features) for splitting.\n",
        "        y (array-like): Target labels (n_samples,) for splitting.\n",
        "        depth (int, optional): Current depth of the tree during recursion.\n",
        "\n",
        "        Returns:\n",
        "        dict: A dictionary representing the structure of the tree, containing the best feature index, threshold, and recursive tree nodes.\n",
        "        \"\"\"\n",
        "        num_samples, num_features = X.shape\n",
        "        unique_classes = np.unique(y)\n",
        "\n",
        "        if len(unique_classes) == 1:\n",
        "            return {'class': unique_classes[0]}\n",
        "        if num_samples == 0 or (self.max_depth and depth >= self.max_depth):\n",
        "            return {'class': np.bincount(y).argmax()}\n",
        "\n",
        "        best_info_gain = -float('inf')\n",
        "        best_split = None\n",
        "        for feature_idx in range(num_features):\n",
        "            thresholds = np.unique(X[:, feature_idx])\n",
        "            for threshold in thresholds:\n",
        "                left_mask = X[:, feature_idx] <= threshold\n",
        "                right_mask = ~left_mask\n",
        "                left_y = y[left_mask]\n",
        "                right_y = y[right_mask]\n",
        "\n",
        "                info_gain = self._information_gain(y, left_y, right_y)\n",
        "\n",
        "                if info_gain > best_info_gain:\n",
        "                    best_info_gain = info_gain\n",
        "                    best_split = {\n",
        "                        'feature_idx': feature_idx,\n",
        "                        'threshold': threshold,\n",
        "                        'left_y': left_y,\n",
        "                        'right_y': right_y,\n",
        "                    }\n",
        "\n",
        "        if best_split is None:\n",
        "            return {'class': np.bincount(y).argmax()}\n",
        "\n",
        "        left_tree = self._build_tree(X[best_split['left_y']], best_split['left_y'], depth + 1)\n",
        "        right_tree = self._build_tree(X[best_split['right_y']], best_split['right_y'], depth + 1)\n",
        "\n",
        "        return {'feature_idx': best_split['feature_idx'], 'threshold': best_split['threshold'],\n",
        "                'left_tree': left_tree, 'right_tree': right_tree}\n",
        "\n",
        "    def _information_gain(self, parent, left, right):\n",
        "        \"\"\"\n",
        "        Computes the Information Gain between the parent node and the left/right child nodes.\n",
        "\n",
        "        Parameters:\n",
        "        parent (array-like): The labels of the parent node.\n",
        "        left (array-like): The labels of the left child node.\n",
        "        right (array-like): The labels of the right child node.\n",
        "\n",
        "        Returns:\n",
        "        float: The Information Gain of the split.\n",
        "        \"\"\"\n",
        "        parent_entropy = self._entropy(parent)\n",
        "        left_entropy = self._entropy(left)\n",
        "        right_entropy = self._entropy(right)\n",
        "\n",
        "        weighted_avg_entropy = (len(left) / len(parent)) * left_entropy + (len(right) / len(parent)) * right_entropy\n",
        "        return parent_entropy - weighted_avg_entropy\n",
        "\n",
        "    def _entropy(self, y):\n",
        "        \"\"\"\n",
        "        Computes the entropy of a set of labels.\n",
        "\n",
        "        Parameters:\n",
        "        y (array-like): The labels for which entropy is calculated.\n",
        "\n",
        "        Returns:\n",
        "        float: The entropy of the labels.\n",
        "        \"\"\"\n",
        "        class_probs = np.bincount(y) / len(y)avoid log(0)\n",
        "        return -np.sum(class_probs * np.log2(class_probs + 1e-9))\n",
        "\n",
        "    def predict(self, X):\n",
        "        \"\"\"\n",
        "        Predicts the target labels for the given test data based on the trained decision tree.\n",
        "\n",
        "        Parameters:\n",
        "        X (array-like): Feature matrix (n_samples, n_features) for prediction.\n",
        "\n",
        "        Returns:\n",
        "        list: A list of predicted target labels (n_samples,).\n",
        "        \"\"\"\n",
        "        return [self._predict_single(x, self.tree) for x in X]\n",
        "\n",
        "    def _predict_single(self, x, tree):\n",
        "        \"\"\"\n",
        "        Recursively predicts the target label for a single sample by traversing the tree.\n",
        "\n",
        "        Parameters:\n",
        "        x (array-like): A single feature vector for prediction.\n",
        "        tree (dict): The current subtree or node to evaluate.\n",
        "\n",
        "        Returns:\n",
        "        int: The predicted class label for the sample.\n",
        "        \"\"\"\n",
        "        if 'class' in tree:\n",
        "            return tree['class']\n",
        "\n",
        "        feature_val = x[tree['feature_idx']]\n",
        "        if feature_val <= tree['threshold']:\n",
        "            return self._predict_single(x, tree['left_tree'])\n",
        "        else:\n",
        "            return self._predict_single(x, tree['right_tree'])\n"
      ]
    },
    {
      "cell_type": "markdown",
      "metadata": {
        "id": "XU15GZcWsJDM"
      },
      "source": [
        "## Necessary Imports\n"
      ]
    },
    {
      "cell_type": "code",
      "execution_count": 2,
      "metadata": {
        "id": "-g3DdwQksGsO"
      },
      "outputs": [],
      "source": [
        "import numpy as np\n",
        "import pandas as pd\n",
        "from sklearn.datasets import load_wine\n",
        "from sklearn.model_selection import train_test_split\n",
        "from sklearn.tree import DecisionTreeClassifier\n",
        "from sklearn.metrics import accuracy_score"
      ]
    },
    {
      "cell_type": "markdown",
      "metadata": {
        "id": "UxZTUicosMvN"
      },
      "source": [
        "## Load and Split the Iris Dataset\n"
      ]
    },
    {
      "cell_type": "code",
      "execution_count": 3,
      "metadata": {
        "id": "ThUBcB5xsA8E"
      },
      "outputs": [],
      "source": [
        "# Load the Iris dataset\n",
        "data = load_wine()\n",
        "X = data.data\n",
        "y = data.target\n",
        "\n",
        "# Split into training and test sets (80% training, 20% test)\n",
        "X_train, X_test, y_train, y_test = train_test_split(X, y, test_size=0.2, random_state=42)\n"
      ]
    },
    {
      "cell_type": "markdown",
      "metadata": {
        "id": "4dGanBWusT01"
      },
      "source": [
        "## Train and Evaluate the Custom Decision Tree\n"
      ]
    },
    {
      "cell_type": "code",
      "execution_count": 4,
      "metadata": {
        "colab": {
          "base_uri": "https://localhost:8080/"
        },
        "id": "dKs5ce4msXYk",
        "outputId": "d82dab66-c7df-41d7-e48d-f10ed54a9ced"
      },
      "outputs": [
        {
          "name": "stdout",
          "output_type": "stream",
          "text": [
            "Custom Decision Tree Accuracy: 0.7222\n"
          ]
        }
      ],
      "source": [
        "# Train the custom decision tree\n",
        "custom_tree = CustomDecisionTree(max_depth=3)\n",
        "custom_tree.fit(X_train, y_train)\n",
        "\n",
        "# Predict on the test set\n",
        "y_pred_custom = custom_tree.predict(X_test)\n",
        "\n",
        "# Calculate accuracy\n",
        "accuracy_custom = accuracy_score(y_test, y_pred_custom)\n",
        "print(f\"Custom Decision Tree Accuracy: {accuracy_custom:.4f}\")\n"
      ]
    },
    {
      "cell_type": "markdown",
      "metadata": {
        "id": "DETmEUtuseDX"
      },
      "source": [
        "## Train and Evaluate the scikit-learn Decision Tree\n"
      ]
    },
    {
      "cell_type": "code",
      "execution_count": 5,
      "metadata": {
        "colab": {
          "base_uri": "https://localhost:8080/"
        },
        "id": "d8wPUUMusYoR",
        "outputId": "73e65c54-370e-483e-d318-6ad19b2bc627"
      },
      "outputs": [
        {
          "name": "stdout",
          "output_type": "stream",
          "text": [
            "Scikit-learn Decision Tree Accuracy: 0.9444\n"
          ]
        }
      ],
      "source": [
        "# Train the Scikit-learn decision tree\n",
        "sklearn_tree = DecisionTreeClassifier(max_depth=3, random_state=42)\n",
        "sklearn_tree.fit(X_train, y_train)\n",
        "\n",
        "# Predict on the test set\n",
        "y_pred_sklearn = sklearn_tree.predict(X_test)\n",
        "\n",
        "# Calculate accuracy\n",
        "accuracy_sklearn = accuracy_score(y_test, y_pred_sklearn)\n",
        "print(f\"Scikit-learn Decision Tree Accuracy: {accuracy_sklearn:.4f}\")\n"
      ]
    },
    {
      "cell_type": "markdown",
      "metadata": {
        "id": "Dx8YHB4uspeD"
      },
      "source": [
        "## Result Comparision\n"
      ]
    },
    {
      "cell_type": "code",
      "execution_count": 6,
      "metadata": {
        "colab": {
          "base_uri": "https://localhost:8080/"
        },
        "id": "yN97p23DsngA",
        "outputId": "dcb278b5-45f9-44b6-ad80-80f311eb50c1"
      },
      "outputs": [
        {
          "name": "stdout",
          "output_type": "stream",
          "text": [
            "Accuracy Comparison:\n",
            "Custom Decision Tree: 0.7222\n",
            "Scikit-learn Decision Tree: 0.9444\n"
          ]
        }
      ],
      "source": [
        "print(f\"Accuracy Comparison:\")\n",
        "print(f\"Custom Decision Tree: {accuracy_custom:.4f}\")\n",
        "print(f\"Scikit-learn Decision Tree: {accuracy_sklearn:.4f}\")\n"
      ]
    },
    {
      "cell_type": "markdown",
      "metadata": {
        "id": "U70doSnIpwlu"
      },
      "source": [
        "# Random Forest\n"
      ]
    },
    {
      "cell_type": "code",
      "execution_count": 8,
      "metadata": {
        "id": "FGNURn_8p4OR"
      },
      "outputs": [],
      "source": [
        "from sklearn.ensemble import RandomForestClassifier"
      ]
    },
    {
      "cell_type": "code",
      "execution_count": 9,
      "metadata": {
        "id": "1gfrGe9Ap500"
      },
      "outputs": [],
      "source": [
        "rf=RandomForestClassifier()\n",
        "rf.fit(X_train,y_train)\n",
        "y_pred_rf=rf.predict(X_test)"
      ]
    },
    {
      "cell_type": "code",
      "execution_count": 10,
      "metadata": {
        "colab": {
          "base_uri": "https://localhost:8080/"
        },
        "id": "hE5re5gkqSV8",
        "outputId": "028aefe6-222d-4330-e87a-f81ac94d7799"
      },
      "outputs": [
        {
          "name": "stdout",
          "output_type": "stream",
          "text": [
            "F1 Score for Random Forest: 1.0000\n"
          ]
        }
      ],
      "source": [
        "#for f1 score\n",
        "from sklearn.metrics import f1_score\n",
        "f1_score_rf=f1_score(y_test,y_pred_rf,average='weighted')\n",
        "print(f\"F1 Score for Random Forest: {f1_score_rf:.4f}\")"
      ]
    },
    {
      "cell_type": "code",
      "execution_count": 11,
      "metadata": {
        "id": "bs59cUbYqf8h"
      },
      "outputs": [],
      "source": [
        "from sklearn.model_selection import GridSearchCV\n",
        "\n",
        "param_grid = {\n",
        "    'n_estimators': [100, 200],\n",
        "    'max_depth': [10, 20, None],\n",
        "    'min_samples_split': [2, 5, 10]\n",
        "}"
      ]
    },
    {
      "cell_type": "code",
      "execution_count": 13,
      "metadata": {
        "colab": {
          "base_uri": "https://localhost:8080/"
        },
        "id": "GIMeDkwCrXle",
        "outputId": "010ac659-23a9-421b-f1a4-1a969a6ab9f2"
      },
      "outputs": [
        {
          "name": "stdout",
          "output_type": "stream",
          "text": [
            "Best Hyperparameters: {'max_depth': 10, 'min_samples_split': 2, 'n_estimators': 100}\n"
          ]
        }
      ],
      "source": [
        "rf = RandomForestClassifier(random_state=42)\n",
        "grid_search = GridSearchCV(estimator=rf, param_grid=param_grid)\n",
        "grid_search.fit(X_train, y_train)\n",
        "print(f\"Best Hyperparameters: {grid_search.best_params_}\")"
      ]
    },
    {
      "cell_type": "code",
      "execution_count": 14,
      "metadata": {
        "id": "O0UFyz5vrYRA"
      },
      "outputs": [],
      "source": [
        "from sklearn.tree import DecisionTreeRegressor\n",
        "from sklearn.ensemble import RandomForestRegressor\n",
        "from sklearn.model_selection import RandomizedSearchCV"
      ]
    },
    {
      "cell_type": "code",
      "execution_count": 16,
      "metadata": {
        "id": "gn3tzjd8r_ge"
      },
      "outputs": [],
      "source": [
        "y_regression = data.target\n",
        "X_train_reg, X_test_reg, y_train_reg, y_test_reg = train_test_split(X, y_regression, test_size=0.3, random_state=42)"
      ]
    },
    {
      "cell_type": "code",
      "execution_count": 17,
      "metadata": {
        "id": "p6ze2QuZsNxZ"
      },
      "outputs": [],
      "source": [
        "dt_regressor = DecisionTreeRegressor(random_state=42)\n",
        "dt_regressor.fit(X_train_reg, y_train_reg)\n",
        "\n",
        "rf_regressor = RandomForestRegressor(random_state=42)\n",
        "rf_regressor.fit(X_train_reg, y_train_reg)\n",
        "\n",
        "y_pred_dt_reg = dt_regressor.predict(X_test_reg)\n",
        "y_pred_rf_reg = rf_regressor.predict(X_test_reg)"
      ]
    },
    {
      "cell_type": "code",
      "execution_count": 19,
      "metadata": {
        "colab": {
          "base_uri": "https://localhost:8080/"
        },
        "id": "DGugG_BPsR7J",
        "outputId": "41bf85e5-f726-4622-b57e-08a66cbdbffd"
      },
      "outputs": [
        {
          "name": "stdout",
          "output_type": "stream",
          "text": [
            "Mean Squared Error for Decision Tree Regressor: 0.14814814814814814\n",
            "Mean Squared Error for Random Forest Regressor: 0.057238888888888916\n"
          ]
        }
      ],
      "source": [
        "from sklearn.metrics import mean_squared_error\n",
        "mse_dt = mean_squared_error(y_test_reg, y_pred_dt_reg)\n",
        "mse_rf = mean_squared_error(y_test_reg, y_pred_rf_reg)\n",
        "print(f\"Mean Squared Error for Decision Tree Regressor: {mse_dt}\")\n",
        "print(f\"Mean Squared Error for Random Forest Regressor: {mse_rf}\")"
      ]
    },
    {
      "cell_type": "code",
      "execution_count": 21,
      "metadata": {
        "colab": {
          "base_uri": "https://localhost:8080/"
        },
        "id": "7OWn2CrFro9R",
        "outputId": "58f9b85e-0305-4fef-ba3b-d24a4d4af9b5"
      },
      "outputs": [
        {
          "name": "stdout",
          "output_type": "stream",
          "text": [
            "Best Hyperparameters for Random Forest Regressor: {'n_estimators': 300, 'min_samples_split': 5, 'max_depth': 20}\n"
          ]
        }
      ],
      "source": [
        "param_dist = {\n",
        "    'n_estimators': [100, 200, 300],\n",
        "    'max_depth': [10, 20, None],\n",
        "    'min_samples_split': [2, 5, 10]\n",
        "}\n",
        "rf_regressor = RandomForestRegressor(random_state=42)\n",
        "random_search = RandomizedSearchCV(estimator=rf_regressor, param_distributions=param_dist)\n",
        "random_search.fit(X_train_reg, y_train_reg)\n",
        "print(f\"Best Hyperparameters for Random Forest Regressor: {random_search.best_params_}\")"
      ]
    },
    {
      "cell_type": "code",
      "execution_count": null,
      "metadata": {
        "id": "iZh24zoCsacZ"
      },
      "outputs": [],
      "source": []
    }
  ],
  "metadata": {
    "colab": {
      "provenance": []
    },
    "kernelspec": {
      "display_name": "Python 3",
      "name": "python3"
    },
    "language_info": {
      "name": "python"
    }
  },
  "nbformat": 4,
  "nbformat_minor": 0
}
